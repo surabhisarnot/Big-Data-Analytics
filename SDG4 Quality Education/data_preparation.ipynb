{
 "cells": [
  {
   "cell_type": "markdown",
   "metadata": {},
   "source": [
    "### Team SPHS members:\n",
    "* Surabhi Sarnot (112584690)\n",
    "* Priyanka Datar (112681258)\n",
    "* Himanshu Agrawal (112680639)\n",
    "* Sri Sneha Geetha Retineni (112671507)\n",
    "\n",
    "General description:\n",
    "This code is for the pre-processing of out main dataset and preparing it for further use in our implementation of various concepts.\n",
    "The output of this file will be the input to county_similarity.py, hypothesis_testing.py and Visualizations.ipynb/Visualizations.py\n",
    "##### Input files\n",
    "* college_scorecard.json (converted to CSV seperately \"college_scorecard.csv\")\n",
    "* unemployment_csv.csv\n",
    "* Education_11-18.csv\n",
    "* Population.csv\n",
    "* ZIP-COUNTY-FIPS_2018-03.csv\n",
    "\n",
    "##### Output files\n",
    "* preprocessed_data.csv\n"
   ]
  },
  {
   "cell_type": "code",
   "execution_count": 408,
   "metadata": {
    "colab": {},
    "colab_type": "code",
    "id": "5BrbTL6PmP3V"
   },
   "outputs": [],
   "source": [
    "# Importing libraries\n",
    "from pprint import pprint\n",
    "import pandas as pd\n",
    "import numpy as np\n",
    "import warnings\n",
    "warnings.simplefilter(\"ignore\")\n",
    "pd.set_option('display.max_columns', None)\n",
    "pd.set_option('display.max_rows', None)"
   ]
  },
  {
   "cell_type": "markdown",
   "metadata": {},
   "source": [
    "### Loading Datasets"
   ]
  },
  {
   "cell_type": "code",
   "execution_count": 409,
   "metadata": {
    "colab": {},
    "colab_type": "code",
    "id": "goDQq_b0nPMB"
   },
   "outputs": [],
   "source": [
    "# Read Main Data\n",
    "college_data = pd.read_csv(\"college_scorecard.csv\")\n",
    "# Read External data\n",
    "unemployment = pd.read_csv(\"unemployment_csv.csv\")\n",
    "education = pd.read_csv(\"Education_11-18.csv\")\n",
    "population = pd.read_csv(\"Population.csv\")\n",
    "countymap = pd.read_csv(\"ZIP-COUNTY-FIPS_2018-03.csv\")"
   ]
  },
  {
   "cell_type": "markdown",
   "metadata": {},
   "source": [
    "### Merge External datasets together"
   ]
  },
  {
   "cell_type": "code",
   "execution_count": 412,
   "metadata": {
    "colab": {},
    "colab_type": "code",
    "id": "MYVvoPlmnZQP"
   },
   "outputs": [],
   "source": [
    "population=population.rename(columns={'FIPStxt':'STCOUNTYFP'})\n",
    "education=education.rename(columns={'FIPS Code':'STCOUNTYFP'})\n",
    "external_data=pd.merge(education,population,on=['STCOUNTYFP','Year'],how=\"inner\")"
   ]
  },
  {
   "cell_type": "code",
   "execution_count": 413,
   "metadata": {
    "colab": {},
    "colab_type": "code",
    "id": "VKdpgSB8oZMY"
   },
   "outputs": [],
   "source": [
    "external_data_final=pd.merge(unemployment,external_data,on=['STCOUNTYFP','Year'],how=\"inner\")"
   ]
  },
  {
   "cell_type": "markdown",
   "metadata": {},
   "source": [
    "### Cleaning external dataset"
   ]
  },
  {
   "cell_type": "code",
   "execution_count": 414,
   "metadata": {},
   "outputs": [],
   "source": [
    "exter_data = pd.DataFrame(external_data_final)"
   ]
  },
  {
   "cell_type": "code",
   "execution_count": 415,
   "metadata": {},
   "outputs": [],
   "source": [
    "# Dropping columns that are not required\n",
    "exter_data = exter_data.drop(['Unnamed: 0_x', 'Stabr', 'area_name', 'State_x', 'Area name', 'Unnamed: 0_y','State_y', 'Area_Name','R_birth', 'R_death', 'R_NATURAL_INC',\n",
    "       'R_INTERNATIONAL_MIG', 'R_DOMESTIC_MIG', 'R_NET_MIG'],axis=1)"
   ]
  },
  {
   "cell_type": "code",
   "execution_count": 416,
   "metadata": {},
   "outputs": [],
   "source": [
    "# Changing the column dtype and converting comma seperated int values to int\n",
    "for cols in change_cols:\n",
    "    exter_data[cols] = exter_data[cols].apply(lambda x: str(x).replace(',',''))\n",
    "    exter_data[cols] = exter_data[cols].astype('float64')"
   ]
  },
  {
   "cell_type": "code",
   "execution_count": 417,
   "metadata": {},
   "outputs": [],
   "source": [
    "# Filling the NA for Important columns with mean and max\n",
    "exter_data['POP_ESTIMATE'].fillna((exter_data['POP_ESTIMATE'].max()), inplace=True)\n",
    "exter_data[\"Percent of adults with a bachelor's degree or higher\"].fillna((exter_data['Percent of adults with a high school diploma only'].mean()), inplace=True)"
   ]
  },
  {
   "cell_type": "code",
   "execution_count": 418,
   "metadata": {},
   "outputs": [],
   "source": [
    "# Dropping any remaining NULL values from external dataset\n",
    "exter_data = exter_data.dropna(how=\"any\")"
   ]
  },
  {
   "cell_type": "markdown",
   "metadata": {},
   "source": [
    "### Load college data and prepare it by adding ZIPS and Year"
   ]
  },
  {
   "cell_type": "code",
   "execution_count": 419,
   "metadata": {
    "colab": {},
    "colab_type": "code",
    "id": "tr1z39_lqgn3"
   },
   "outputs": [],
   "source": [
    "# Adding COUNTY ZIP which identifies county uniquely\n",
    "college_data['ZIP']=college_data['ZIP'].str[0:5]\n",
    "college_data.dropna(subset=['ZIP'],inplace=True)\n",
    "college_data['ZIP']=college_data['ZIP'].astype(\"int64\")"
   ]
  },
  {
   "cell_type": "code",
   "execution_count": 420,
   "metadata": {
    "colab": {},
    "colab_type": "code",
    "id": "QqWbAhKUzM4r"
   },
   "outputs": [],
   "source": [
    "# Joining county map to college data to get Unique county identifier in college_data\n",
    "college_data_fips=pd.merge(college_data,countymap,on=\"ZIP\",how=\"inner\")"
   ]
  },
  {
   "cell_type": "code",
   "execution_count": 421,
   "metadata": {},
   "outputs": [],
   "source": [
    "college_data_fips=college_data_fips.rename(columns={\"YEAR\":\"Year\"})"
   ]
  },
  {
   "cell_type": "markdown",
   "metadata": {},
   "source": [
    "### Filter college data to year from 2010-2018"
   ]
  },
  {
   "cell_type": "code",
   "execution_count": 422,
   "metadata": {},
   "outputs": [],
   "source": [
    "# college_filter_year = college_filter[college_filter['Year']>=2010]\n",
    "college_filter_year = college_data_fips[college_data_fips['Year']>=2010]"
   ]
  },
  {
   "cell_type": "code",
   "execution_count": 423,
   "metadata": {},
   "outputs": [],
   "source": [
    "# Drop columns greater than 40 % null values\n",
    "cols = college_filter_year.columns[college_filter_year.isnull().mean()>0.10]\n",
    "college_filter_col = college_filter_year.drop(cols, axis=1)"
   ]
  },
  {
   "cell_type": "code",
   "execution_count": 424,
   "metadata": {},
   "outputs": [],
   "source": [
    "# Replace PrivacySuppressed with NaN\n",
    "college_filter_2 = college_filter_col.replace('PrivacySuppressed', np.nan)"
   ]
  },
  {
   "cell_type": "code",
   "execution_count": 425,
   "metadata": {},
   "outputs": [],
   "source": [
    "abc = pd.DataFrame(college_filter_2)"
   ]
  },
  {
   "cell_type": "code",
   "execution_count": 426,
   "metadata": {},
   "outputs": [],
   "source": [
    "# Filtering out rows with more than 5 null values. For better dataset quality\n",
    "abc = abc[abc.isnull().sum(axis=1) < 5]"
   ]
  },
  {
   "cell_type": "code",
   "execution_count": 445,
   "metadata": {},
   "outputs": [],
   "source": [
    "abc1 = pd.DataFrame(abc)"
   ]
  },
  {
   "cell_type": "code",
   "execution_count": 446,
   "metadata": {},
   "outputs": [],
   "source": [
    "# Changing the column dtype and converting comma seperated int values to int\n",
    "cols = list(abc1.columns)\n",
    "cols.remove('CITY_y')\n",
    "cols.remove('STATE')\n",
    "cols.remove('COUNTYNAME')\n",
    "cols.remove('CITY_x')\n",
    "cols.remove('STABBR')\n",
    "cols.remove('INSTNM')\n",
    "cols.remove('CLASSFP')\n",
    "cols.remove('OPEID')\n",
    "for col in cols:\n",
    "    abc1[col] = abc1[col].apply(lambda x: str(x).replace(',',''))\n",
    "    abc1[col] = abc1[col].astype('float64')"
   ]
  },
  {
   "cell_type": "code",
   "execution_count": 438,
   "metadata": {},
   "outputs": [],
   "source": [
    "# Dropping any missing values entries.\n",
    "abc1 = abc1.dropna(how=\"any\")\n",
    "\n",
    "# Now, converting the data by having single entries of (County, Year) and grouping and aggregating by taking the mean for a particular year and county.\n",
    "college_data_prepared = abc1.groupby(['STCOUNTYFP','Year']).mean().reset_index()"
   ]
  },
  {
   "cell_type": "markdown",
   "metadata": {},
   "source": [
    "### Merging college data with External Data\n",
    "* On key (County, Year)\n",
    "* Doing Inner Joi"
   ]
  },
  {
   "cell_type": "code",
   "execution_count": 439,
   "metadata": {},
   "outputs": [],
   "source": [
    "prepared_data = pd.merge(college_data_prepared,exter_data,on=['STCOUNTYFP','Year'],how=\"inner\")"
   ]
  },
  {
   "cell_type": "code",
   "execution_count": 440,
   "metadata": {},
   "outputs": [],
   "source": [
    "# Creating a EQI (Education Quality Index Parameter) which will determine the Quality of Education.\n",
    "# Taking the parameters based on the Target indicators set for SDG-4 by UN."
   ]
  },
  {
   "cell_type": "code",
   "execution_count": 441,
   "metadata": {},
   "outputs": [],
   "source": [
    "prepared_data['perc_total'] = prepared_data['UG12MN']*100/prepared_data['POP_ESTIMATE']\n",
    "prepared_data['perc_total'].loc[(prepared_data['perc_total'] > 0.493279)] = 0.493279\n",
    "prepared_data['EQI'] = 1*prepared_data['perc_total'] + 0.4*prepared_data['Percent of adults with a high school diploma only'] + 0.6*prepared_data[\"Percent of adults completing some college or associate's degree\"] + 0.8*prepared_data[\"Percent of adults with a bachelor's degree or higher\"]\n",
    "prepared_data['EQI'] = prepared_data['EQI']/100"
   ]
  },
  {
   "cell_type": "code",
   "execution_count": 444,
   "metadata": {},
   "outputs": [],
   "source": [
    "# Writing to csv the file which will be used as input to all the other files in the project.\n",
    "prepared_data.to_csv(\"preprocessed_data.csv\")"
   ]
  },
  {
   "cell_type": "code",
   "execution_count": null,
   "metadata": {},
   "outputs": [],
   "source": []
  },
  {
   "cell_type": "code",
   "execution_count": null,
   "metadata": {},
   "outputs": [],
   "source": []
  }
 ],
 "metadata": {
  "colab": {
   "collapsed_sections": [],
   "name": "Untitled",
   "provenance": []
  },
  "kernelspec": {
   "display_name": "Python 3",
   "language": "python",
   "name": "python3"
  },
  "language_info": {
   "codemirror_mode": {
    "name": "ipython",
    "version": 3
   },
   "file_extension": ".py",
   "mimetype": "text/x-python",
   "name": "python",
   "nbconvert_exporter": "python",
   "pygments_lexer": "ipython3",
   "version": "3.7.4"
  }
 },
 "nbformat": 4,
 "nbformat_minor": 4
}
